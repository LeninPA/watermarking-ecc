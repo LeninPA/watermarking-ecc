{
  "nbformat": 4,
  "nbformat_minor": 0,
  "metadata": {
    "colab": {
      "provenance": [],
      "gpuType": "V28",
      "authorship_tag": "ABX9TyM3OxWrkNSEEhuJ4tZVhVLP",
      "include_colab_link": true
    },
    "kernelspec": {
      "name": "python3",
      "display_name": "Python 3"
    },
    "language_info": {
      "name": "python"
    },
    "accelerator": "TPU"
  },
  "cells": [
    {
      "cell_type": "markdown",
      "metadata": {
        "id": "view-in-github",
        "colab_type": "text"
      },
      "source": [
        "<a href=\"https://colab.research.google.com/github/LeninPA/watermarking-ecc/blob/main/tokenizer.ipynb\" target=\"_parent\"><img src=\"https://colab.research.google.com/assets/colab-badge.svg\" alt=\"Open In Colab\"/></a>"
      ]
    },
    {
      "cell_type": "markdown",
      "source": [
        "# Watermarking usando Códigos Correctores de Errores\n",
        "\n",
        "## Tokenización\n",
        "\n",
        "Se usa un algoritmo tipo BPE para realizar la tokenización. Trabajando con `llama-7b` (por los 7 mil millones de parámetros o _billions_ en inglés).\n",
        "\n",
        "Se necesita cambiar el entorno de ejecución de CPU a GPU o TPU para ejecutar el siguiente notebook."
      ],
      "metadata": {
        "id": "OyMzTuD0VQaV"
      }
    },
    {
      "cell_type": "code",
      "source": [
        "!pip install torchao"
      ],
      "metadata": {
        "id": "kgwS4z-8XJeY"
      },
      "execution_count": null,
      "outputs": []
    },
    {
      "cell_type": "code",
      "execution_count": null,
      "metadata": {
        "id": "U4N4ITiWVGLT"
      },
      "outputs": [],
      "source": [
        "# Importa el tokenizador de llama\n",
        "from transformers import LlamaTokenizerFast\n",
        "tokenizer = LlamaTokenizerFast.from_pretrained(\"hf-internal-testing/llama-tokenizer\")\n",
        "# Función que usa el BPE de llama para tokenizar\n",
        "def llama_tokenize(text):\n",
        "    return tokenizer.encode(text)"
      ]
    },
    {
      "cell_type": "code",
      "source": [
        "cadena_1 = \"Hello this is a test\"\n",
        "cadena_2 = \"psiconeuroinmunoendocrinología\"\n",
        "cadena_3 = \"Ken otisemilhwitiwak\"\n",
        "\n",
        "for cadena in [cadena_1, cadena_2, cadena_3]:\n",
        "    print(f\"Vamos a tokenizar a {cadena}\")\n",
        "    tokens = llama_tokenize(cadena)\n",
        "    print(tokens)\n",
        "    binary_tokens = [bin(t) for t in tokens]\n",
        "    print(binary_tokens)\n",
        "    print(\"Ahora lo decodificamos token por token:\")\n",
        "    for token in tokens:\n",
        "        print(tokenizer.decode(token))\n",
        "    print(\"---\\nTerminamos de decodificar\\n\")"
      ],
      "metadata": {
        "colab": {
          "base_uri": "https://localhost:8080/"
        },
        "id": "F6Q53k6ZXkJH",
        "outputId": "51ec3e17-1ed5-438d-f5d1-f25682095ae7"
      },
      "execution_count": 3,
      "outputs": [
        {
          "output_type": "stream",
          "name": "stdout",
          "text": [
            "Vamos a tokenizar a Hello this is a test\n",
            "[1, 15043, 445, 338, 263, 1243]\n",
            "['0b1', '0b11101011000011', '0b110111101', '0b101010010', '0b100000111', '0b10011011011']\n",
            "Ahora lo decodificamos token por token:\n",
            "<s>\n",
            "Hello\n",
            "this\n",
            "is\n",
            "a\n",
            "test\n",
            "---\n",
            "Terminamos de decodificar\n",
            "\n",
            "Vamos a tokenizar a psiconeuroinmunoendocrinología\n",
            "[1, 6529, 293, 650, 2192, 262, 29885, 9447, 355, 8415, 262, 14046]\n",
            "['0b1', '0b1100110000001', '0b100100101', '0b1010001010', '0b100010010000', '0b100000110', '0b111010010111101', '0b10010011100111', '0b101100011', '0b10000011011111', '0b100000110', '0b11011011011110']\n",
            "Ahora lo decodificamos token por token:\n",
            "<s>\n",
            "ps\n",
            "ic\n",
            "one\n",
            "uro\n",
            "in\n",
            "m\n",
            "uno\n",
            "end\n",
            "ocr\n",
            "in\n",
            "ología\n",
            "---\n",
            "Terminamos de decodificar\n",
            "\n",
            "Vamos a tokenizar a Ken otisemilhwitiwak\n",
            "[1, 10015, 4932, 275, 331, 309, 26828, 4812, 29893, 557]\n",
            "['0b1', '0b10011100011111', '0b1001101000100', '0b100010011', '0b101001011', '0b100110101', '0b110100011001100', '0b1001011001100', '0b111010011000101', '0b1000101101']\n",
            "Ahora lo decodificamos token por token:\n",
            "<s>\n",
            "Ken\n",
            "ot\n",
            "is\n",
            "em\n",
            "il\n",
            "hw\n",
            "iti\n",
            "w\n",
            "ak\n",
            "---\n",
            "Terminamos de decodificar\n",
            "\n"
          ]
        }
      ]
    },
    {
      "cell_type": "code",
      "source": [],
      "metadata": {
        "id": "1CKHcGaZYjFx"
      },
      "execution_count": null,
      "outputs": []
    }
  ]
}